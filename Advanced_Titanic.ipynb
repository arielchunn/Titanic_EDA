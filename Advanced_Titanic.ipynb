{
 "cells": [
  {
   "cell_type": "code",
   "execution_count": 1,
   "id": "9663c8cc-1fe6-4fe4-b007-f9f4b8487229",
   "metadata": {},
   "outputs": [],
   "source": [
    "import pandas as pd\n",
    "import numpy as np"
   ]
  },
  {
   "cell_type": "code",
   "execution_count": 2,
   "id": "ce496212-6946-43d5-a2b4-888a73f95fb8",
   "metadata": {},
   "outputs": [
    {
     "data": {
      "text/plain": [
       "(891, 12)"
      ]
     },
     "execution_count": 2,
     "metadata": {},
     "output_type": "execute_result"
    }
   ],
   "source": [
    "df = pd.read_csv('./data/titanic.csv')\n",
    "df.shape"
   ]
  },
  {
   "cell_type": "code",
   "execution_count": 57,
   "id": "67560c47-7152-4533-b2d5-4844fff94088",
   "metadata": {},
   "outputs": [
    {
     "data": {
      "text/plain": [
       "PassengerId          0\n",
       "Survived             0\n",
       "Pclass               0\n",
       "Name                 0\n",
       "Sex                  0\n",
       "Age                177\n",
       "SibSp                0\n",
       "Parch                0\n",
       "Ticket               0\n",
       "Fare                 0\n",
       "Cabin              687\n",
       "Embarked             2\n",
       "survival_gender      0\n",
       "dtype: int64"
      ]
     },
     "execution_count": 57,
     "metadata": {},
     "output_type": "execute_result"
    }
   ],
   "source": [
    "df.isnull().sum()"
   ]
  },
  {
   "cell_type": "code",
   "execution_count": 15,
   "id": "b76b0284-4a3e-4da5-88ac-12571f434173",
   "metadata": {},
   "outputs": [
    {
     "data": {
      "text/html": [
       "<div>\n",
       "<style scoped>\n",
       "    .dataframe tbody tr th:only-of-type {\n",
       "        vertical-align: middle;\n",
       "    }\n",
       "\n",
       "    .dataframe tbody tr th {\n",
       "        vertical-align: top;\n",
       "    }\n",
       "\n",
       "    .dataframe thead th {\n",
       "        text-align: right;\n",
       "    }\n",
       "</style>\n",
       "<table border=\"1\" class=\"dataframe\">\n",
       "  <thead>\n",
       "    <tr style=\"text-align: right;\">\n",
       "      <th></th>\n",
       "      <th>PassengerId</th>\n",
       "      <th>Survived</th>\n",
       "      <th>Pclass</th>\n",
       "      <th>Age</th>\n",
       "      <th>SibSp</th>\n",
       "      <th>Parch</th>\n",
       "      <th>Fare</th>\n",
       "    </tr>\n",
       "  </thead>\n",
       "  <tbody>\n",
       "    <tr>\n",
       "      <th>count</th>\n",
       "      <td>891.000000</td>\n",
       "      <td>891.000000</td>\n",
       "      <td>891.000000</td>\n",
       "      <td>714.000000</td>\n",
       "      <td>891.000000</td>\n",
       "      <td>891.000000</td>\n",
       "      <td>891.000000</td>\n",
       "    </tr>\n",
       "    <tr>\n",
       "      <th>mean</th>\n",
       "      <td>446.000000</td>\n",
       "      <td>0.383838</td>\n",
       "      <td>2.308642</td>\n",
       "      <td>29.699118</td>\n",
       "      <td>0.523008</td>\n",
       "      <td>0.381594</td>\n",
       "      <td>32.204208</td>\n",
       "    </tr>\n",
       "    <tr>\n",
       "      <th>std</th>\n",
       "      <td>257.353842</td>\n",
       "      <td>0.486592</td>\n",
       "      <td>0.836071</td>\n",
       "      <td>14.526497</td>\n",
       "      <td>1.102743</td>\n",
       "      <td>0.806057</td>\n",
       "      <td>49.693429</td>\n",
       "    </tr>\n",
       "    <tr>\n",
       "      <th>min</th>\n",
       "      <td>1.000000</td>\n",
       "      <td>0.000000</td>\n",
       "      <td>1.000000</td>\n",
       "      <td>0.420000</td>\n",
       "      <td>0.000000</td>\n",
       "      <td>0.000000</td>\n",
       "      <td>0.000000</td>\n",
       "    </tr>\n",
       "    <tr>\n",
       "      <th>25%</th>\n",
       "      <td>223.500000</td>\n",
       "      <td>0.000000</td>\n",
       "      <td>2.000000</td>\n",
       "      <td>20.125000</td>\n",
       "      <td>0.000000</td>\n",
       "      <td>0.000000</td>\n",
       "      <td>7.910400</td>\n",
       "    </tr>\n",
       "    <tr>\n",
       "      <th>50%</th>\n",
       "      <td>446.000000</td>\n",
       "      <td>0.000000</td>\n",
       "      <td>3.000000</td>\n",
       "      <td>28.000000</td>\n",
       "      <td>0.000000</td>\n",
       "      <td>0.000000</td>\n",
       "      <td>14.454200</td>\n",
       "    </tr>\n",
       "    <tr>\n",
       "      <th>75%</th>\n",
       "      <td>668.500000</td>\n",
       "      <td>1.000000</td>\n",
       "      <td>3.000000</td>\n",
       "      <td>38.000000</td>\n",
       "      <td>1.000000</td>\n",
       "      <td>0.000000</td>\n",
       "      <td>31.000000</td>\n",
       "    </tr>\n",
       "    <tr>\n",
       "      <th>max</th>\n",
       "      <td>891.000000</td>\n",
       "      <td>1.000000</td>\n",
       "      <td>3.000000</td>\n",
       "      <td>80.000000</td>\n",
       "      <td>8.000000</td>\n",
       "      <td>6.000000</td>\n",
       "      <td>512.329200</td>\n",
       "    </tr>\n",
       "  </tbody>\n",
       "</table>\n",
       "</div>"
      ],
      "text/plain": [
       "       PassengerId    Survived      Pclass         Age       SibSp  \\\n",
       "count   891.000000  891.000000  891.000000  714.000000  891.000000   \n",
       "mean    446.000000    0.383838    2.308642   29.699118    0.523008   \n",
       "std     257.353842    0.486592    0.836071   14.526497    1.102743   \n",
       "min       1.000000    0.000000    1.000000    0.420000    0.000000   \n",
       "25%     223.500000    0.000000    2.000000   20.125000    0.000000   \n",
       "50%     446.000000    0.000000    3.000000   28.000000    0.000000   \n",
       "75%     668.500000    1.000000    3.000000   38.000000    1.000000   \n",
       "max     891.000000    1.000000    3.000000   80.000000    8.000000   \n",
       "\n",
       "            Parch        Fare  \n",
       "count  891.000000  891.000000  \n",
       "mean     0.381594   32.204208  \n",
       "std      0.806057   49.693429  \n",
       "min      0.000000    0.000000  \n",
       "25%      0.000000    7.910400  \n",
       "50%      0.000000   14.454200  \n",
       "75%      0.000000   31.000000  \n",
       "max      6.000000  512.329200  "
      ]
     },
     "execution_count": 15,
     "metadata": {},
     "output_type": "execute_result"
    }
   ],
   "source": [
    "df.describe()"
   ]
  },
  {
   "cell_type": "code",
   "execution_count": 174,
   "id": "b3e7b1c9-e0f3-4724-9eb3-67b331c415cf",
   "metadata": {},
   "outputs": [
    {
     "data": {
      "text/plain": [
       "Pclass\n",
       "1    216\n",
       "2    184\n",
       "3    491\n",
       "Name: PassengerId, dtype: int64"
      ]
     },
     "execution_count": 174,
     "metadata": {},
     "output_type": "execute_result"
    }
   ],
   "source": [
    "df.groupby(['Pclass']).PassengerId.count()"
   ]
  },
  {
   "cell_type": "code",
   "execution_count": 6,
   "id": "0cbcb897-8dcb-4d25-a178-4beb6ae21995",
   "metadata": {},
   "outputs": [
    {
     "data": {
      "text/plain": [
       "Pclass\n",
       "1    84.154687\n",
       "2    20.662183\n",
       "3    13.675550\n",
       "Name: Fare, dtype: float64"
      ]
     },
     "execution_count": 6,
     "metadata": {},
     "output_type": "execute_result"
    }
   ],
   "source": [
    "df.groupby('Pclass').Fare.mean()"
   ]
  },
  {
   "cell_type": "code",
   "execution_count": 25,
   "id": "d5d67dc1-a0cb-435c-bd8a-d6ab4e9c667c",
   "metadata": {},
   "outputs": [
    {
     "data": {
      "text/plain": [
       "Sex\n",
       "female    27.915709\n",
       "male      30.726645\n",
       "Name: Age, dtype: float64"
      ]
     },
     "execution_count": 25,
     "metadata": {},
     "output_type": "execute_result"
    }
   ],
   "source": [
    "df.groupby('Sex').Age.mean()"
   ]
  },
  {
   "cell_type": "code",
   "execution_count": 26,
   "id": "cc2de72e-e21d-4de4-8a1e-3ef1a1471d0e",
   "metadata": {},
   "outputs": [
    {
     "data": {
      "text/plain": [
       "Sex     Pclass\n",
       "female  1         34.611765\n",
       "        2         28.722973\n",
       "        3         21.750000\n",
       "male    1         41.281386\n",
       "        2         30.740707\n",
       "        3         26.507589\n",
       "Name: Age, dtype: float64"
      ]
     },
     "execution_count": 26,
     "metadata": {},
     "output_type": "execute_result"
    }
   ],
   "source": [
    "df.groupby(['Sex', 'Pclass']).Age.mean()"
   ]
  },
  {
   "cell_type": "code",
   "execution_count": 24,
   "id": "76c71d30-966d-4139-90c4-9ae46faa166d",
   "metadata": {},
   "outputs": [
    {
     "data": {
      "text/html": [
       "<div>\n",
       "<style scoped>\n",
       "    .dataframe tbody tr th:only-of-type {\n",
       "        vertical-align: middle;\n",
       "    }\n",
       "\n",
       "    .dataframe tbody tr th {\n",
       "        vertical-align: top;\n",
       "    }\n",
       "\n",
       "    .dataframe thead th {\n",
       "        text-align: right;\n",
       "    }\n",
       "</style>\n",
       "<table border=\"1\" class=\"dataframe\">\n",
       "  <thead>\n",
       "    <tr style=\"text-align: right;\">\n",
       "      <th></th>\n",
       "      <th>Sex</th>\n",
       "      <th>len</th>\n",
       "      <th>min</th>\n",
       "      <th>max</th>\n",
       "    </tr>\n",
       "  </thead>\n",
       "  <tbody>\n",
       "    <tr>\n",
       "      <th>0</th>\n",
       "      <td>female</td>\n",
       "      <td>314</td>\n",
       "      <td>0.75</td>\n",
       "      <td>63.0</td>\n",
       "    </tr>\n",
       "    <tr>\n",
       "      <th>1</th>\n",
       "      <td>male</td>\n",
       "      <td>577</td>\n",
       "      <td>0.42</td>\n",
       "      <td>80.0</td>\n",
       "    </tr>\n",
       "  </tbody>\n",
       "</table>\n",
       "</div>"
      ],
      "text/plain": [
       "      Sex  len   min   max\n",
       "0  female  314  0.75  63.0\n",
       "1    male  577  0.42  80.0"
      ]
     },
     "execution_count": 24,
     "metadata": {},
     "output_type": "execute_result"
    }
   ],
   "source": [
    "age = df.groupby('Sex').Age.agg([len,min,max]).reset_index()\n",
    "age"
   ]
  },
  {
   "cell_type": "markdown",
   "id": "0d571d17-926b-4d3b-9e8c-ca0c1f4b4ea3",
   "metadata": {
    "tags": []
   },
   "source": [
    "#### 1. Who were the passengers?\n",
    "\n",
    "Most passengers were in Pclass 3(491), Pclass 2 had 184 passengers, and Pclass 1 had 216 passengers.\\\n",
    "Female:\\\n",
    "youngest is almost a year old and the oldest is 63.\\\n",
    "Male:\\\n",
    "youngest is less than half a year old and the oldest is 80.\\\n",
    "The youngest group of people belonged to the third class for male and female."
   ]
  },
  {
   "cell_type": "code",
   "execution_count": 4,
   "id": "641dca5f-a81d-4e15-8958-790f7b63984a",
   "metadata": {},
   "outputs": [
    {
     "data": {
      "text/html": [
       "<div>\n",
       "<style scoped>\n",
       "    .dataframe tbody tr th:only-of-type {\n",
       "        vertical-align: middle;\n",
       "    }\n",
       "\n",
       "    .dataframe tbody tr th {\n",
       "        vertical-align: top;\n",
       "    }\n",
       "\n",
       "    .dataframe thead th {\n",
       "        text-align: right;\n",
       "    }\n",
       "</style>\n",
       "<table border=\"1\" class=\"dataframe\">\n",
       "  <thead>\n",
       "    <tr style=\"text-align: right;\">\n",
       "      <th></th>\n",
       "      <th>PassengerId</th>\n",
       "      <th>Survived</th>\n",
       "      <th>Pclass</th>\n",
       "      <th>Name</th>\n",
       "      <th>Sex</th>\n",
       "      <th>Age</th>\n",
       "      <th>SibSp</th>\n",
       "      <th>Parch</th>\n",
       "      <th>Ticket</th>\n",
       "      <th>Fare</th>\n",
       "      <th>Cabin</th>\n",
       "      <th>Embarked</th>\n",
       "      <th>deck</th>\n",
       "    </tr>\n",
       "  </thead>\n",
       "  <tbody>\n",
       "    <tr>\n",
       "      <th>0</th>\n",
       "      <td>1</td>\n",
       "      <td>0</td>\n",
       "      <td>3</td>\n",
       "      <td>Braund, Mr. Owen Harris</td>\n",
       "      <td>male</td>\n",
       "      <td>22.0</td>\n",
       "      <td>1</td>\n",
       "      <td>0</td>\n",
       "      <td>A/5 21171</td>\n",
       "      <td>7.2500</td>\n",
       "      <td>NaN</td>\n",
       "      <td>S</td>\n",
       "      <td>NaN</td>\n",
       "    </tr>\n",
       "    <tr>\n",
       "      <th>1</th>\n",
       "      <td>2</td>\n",
       "      <td>1</td>\n",
       "      <td>1</td>\n",
       "      <td>Cumings, Mrs. John Bradley (Florence Briggs Th...</td>\n",
       "      <td>female</td>\n",
       "      <td>38.0</td>\n",
       "      <td>1</td>\n",
       "      <td>0</td>\n",
       "      <td>PC 17599</td>\n",
       "      <td>71.2833</td>\n",
       "      <td>C85</td>\n",
       "      <td>C</td>\n",
       "      <td>C</td>\n",
       "    </tr>\n",
       "    <tr>\n",
       "      <th>2</th>\n",
       "      <td>3</td>\n",
       "      <td>1</td>\n",
       "      <td>3</td>\n",
       "      <td>Heikkinen, Miss. Laina</td>\n",
       "      <td>female</td>\n",
       "      <td>26.0</td>\n",
       "      <td>0</td>\n",
       "      <td>0</td>\n",
       "      <td>STON/O2. 3101282</td>\n",
       "      <td>7.9250</td>\n",
       "      <td>NaN</td>\n",
       "      <td>S</td>\n",
       "      <td>NaN</td>\n",
       "    </tr>\n",
       "    <tr>\n",
       "      <th>3</th>\n",
       "      <td>4</td>\n",
       "      <td>1</td>\n",
       "      <td>1</td>\n",
       "      <td>Futrelle, Mrs. Jacques Heath (Lily May Peel)</td>\n",
       "      <td>female</td>\n",
       "      <td>35.0</td>\n",
       "      <td>1</td>\n",
       "      <td>0</td>\n",
       "      <td>113803</td>\n",
       "      <td>53.1000</td>\n",
       "      <td>C123</td>\n",
       "      <td>S</td>\n",
       "      <td>C</td>\n",
       "    </tr>\n",
       "    <tr>\n",
       "      <th>4</th>\n",
       "      <td>5</td>\n",
       "      <td>0</td>\n",
       "      <td>3</td>\n",
       "      <td>Allen, Mr. William Henry</td>\n",
       "      <td>male</td>\n",
       "      <td>35.0</td>\n",
       "      <td>0</td>\n",
       "      <td>0</td>\n",
       "      <td>373450</td>\n",
       "      <td>8.0500</td>\n",
       "      <td>NaN</td>\n",
       "      <td>S</td>\n",
       "      <td>NaN</td>\n",
       "    </tr>\n",
       "  </tbody>\n",
       "</table>\n",
       "</div>"
      ],
      "text/plain": [
       "   PassengerId  Survived  Pclass  \\\n",
       "0            1         0       3   \n",
       "1            2         1       1   \n",
       "2            3         1       3   \n",
       "3            4         1       1   \n",
       "4            5         0       3   \n",
       "\n",
       "                                                Name     Sex   Age  SibSp  \\\n",
       "0                            Braund, Mr. Owen Harris    male  22.0      1   \n",
       "1  Cumings, Mrs. John Bradley (Florence Briggs Th...  female  38.0      1   \n",
       "2                             Heikkinen, Miss. Laina  female  26.0      0   \n",
       "3       Futrelle, Mrs. Jacques Heath (Lily May Peel)  female  35.0      1   \n",
       "4                           Allen, Mr. William Henry    male  35.0      0   \n",
       "\n",
       "   Parch            Ticket     Fare Cabin Embarked deck  \n",
       "0      0         A/5 21171   7.2500   NaN        S  NaN  \n",
       "1      0          PC 17599  71.2833   C85        C    C  \n",
       "2      0  STON/O2. 3101282   7.9250   NaN        S  NaN  \n",
       "3      0            113803  53.1000  C123        S    C  \n",
       "4      0            373450   8.0500   NaN        S  NaN  "
      ]
     },
     "execution_count": 4,
     "metadata": {},
     "output_type": "execute_result"
    }
   ],
   "source": [
    "df['deck']= df['Cabin'].str[:1]\n",
    "df.head()"
   ]
  },
  {
   "cell_type": "code",
   "execution_count": 6,
   "id": "88057f37-8f95-4917-8c00-d6f01bc207ff",
   "metadata": {},
   "outputs": [
    {
     "data": {
      "text/plain": [
       "C    59\n",
       "B    47\n",
       "D    33\n",
       "E    32\n",
       "A    15\n",
       "F    13\n",
       "G     4\n",
       "T     1\n",
       "Name: deck, dtype: int64"
      ]
     },
     "execution_count": 6,
     "metadata": {},
     "output_type": "execute_result"
    }
   ],
   "source": [
    "df.deck.value_counts()"
   ]
  },
  {
   "cell_type": "code",
   "execution_count": 173,
   "id": "d63feda7-ced5-40d0-8b10-be3361c441bf",
   "metadata": {},
   "outputs": [
    {
     "data": {
      "text/plain": [
       "Pclass  deck\n",
       "1       A       15\n",
       "        B       47\n",
       "        C       59\n",
       "        D       29\n",
       "        E       25\n",
       "        T        1\n",
       "2       D        4\n",
       "        E        4\n",
       "        F        8\n",
       "3       E        3\n",
       "        F        5\n",
       "        G        4\n",
       "Name: PassengerId, dtype: int64"
      ]
     },
     "execution_count": 173,
     "metadata": {},
     "output_type": "execute_result"
    }
   ],
   "source": [
    "df.groupby(['Pclass', 'deck']).PassengerId.count()"
   ]
  },
  {
   "cell_type": "markdown",
   "id": "9ee9ff99-0b2d-4792-a744-09896e4727a3",
   "metadata": {},
   "source": [
    "2. What deck were the passengers on and how's that relate to their class booking?\\\n",
    "Many passenger's did not have cabin's reported, but what was reported showed that Pclass 1 stayed mainly on Deck C and B followed by D, E, A, and T respectively.\\ \n",
    "Pclass 2 stayed in F, E, and D; Pclass 3 stayed in F, G, and E.\\ \n",
    "Deck C and B had the h ighest average fare price and G was the lowest. "
   ]
  },
  {
   "cell_type": "code",
   "execution_count": 31,
   "id": "589941fb-449c-4d8b-bb2b-2cf7379b4627",
   "metadata": {},
   "outputs": [
    {
     "data": {
      "text/plain": [
       "Pclass  deck\n",
       "1       A        39.623887\n",
       "        B       113.505764\n",
       "        C       100.151341\n",
       "        D        63.324286\n",
       "        E        55.740168\n",
       "        T        35.500000\n",
       "2       D        13.166675\n",
       "        E        11.587500\n",
       "        F        23.750000\n",
       "3       E        11.000000\n",
       "        F        10.611660\n",
       "        G        13.581250\n",
       "Name: Fare, dtype: float64"
      ]
     },
     "execution_count": 31,
     "metadata": {},
     "output_type": "execute_result"
    }
   ],
   "source": [
    "df.groupby(['Pclass','deck']).Fare.mean()"
   ]
  },
  {
   "cell_type": "code",
   "execution_count": 42,
   "id": "31b86a79-4721-4b39-a350-96ce24588bce",
   "metadata": {},
   "outputs": [
    {
     "data": {
      "text/html": [
       "<div>\n",
       "<style scoped>\n",
       "    .dataframe tbody tr th:only-of-type {\n",
       "        vertical-align: middle;\n",
       "    }\n",
       "\n",
       "    .dataframe tbody tr th {\n",
       "        vertical-align: top;\n",
       "    }\n",
       "\n",
       "    .dataframe thead th {\n",
       "        text-align: right;\n",
       "    }\n",
       "</style>\n",
       "<table border=\"1\" class=\"dataframe\">\n",
       "  <thead>\n",
       "    <tr style=\"text-align: right;\">\n",
       "      <th></th>\n",
       "      <th>PassengerId</th>\n",
       "      <th>Survived</th>\n",
       "      <th>Pclass</th>\n",
       "      <th>Name</th>\n",
       "      <th>Sex</th>\n",
       "      <th>Age</th>\n",
       "      <th>SibSp</th>\n",
       "      <th>Parch</th>\n",
       "      <th>Ticket</th>\n",
       "      <th>Fare</th>\n",
       "      <th>Cabin</th>\n",
       "      <th>deck</th>\n",
       "    </tr>\n",
       "    <tr>\n",
       "      <th>Embarked</th>\n",
       "      <th></th>\n",
       "      <th></th>\n",
       "      <th></th>\n",
       "      <th></th>\n",
       "      <th></th>\n",
       "      <th></th>\n",
       "      <th></th>\n",
       "      <th></th>\n",
       "      <th></th>\n",
       "      <th></th>\n",
       "      <th></th>\n",
       "      <th></th>\n",
       "    </tr>\n",
       "  </thead>\n",
       "  <tbody>\n",
       "    <tr>\n",
       "      <th>C</th>\n",
       "      <td>168</td>\n",
       "      <td>168</td>\n",
       "      <td>168</td>\n",
       "      <td>168</td>\n",
       "      <td>168</td>\n",
       "      <td>130</td>\n",
       "      <td>168</td>\n",
       "      <td>168</td>\n",
       "      <td>168</td>\n",
       "      <td>168</td>\n",
       "      <td>69</td>\n",
       "      <td>69</td>\n",
       "    </tr>\n",
       "    <tr>\n",
       "      <th>Q</th>\n",
       "      <td>77</td>\n",
       "      <td>77</td>\n",
       "      <td>77</td>\n",
       "      <td>77</td>\n",
       "      <td>77</td>\n",
       "      <td>28</td>\n",
       "      <td>77</td>\n",
       "      <td>77</td>\n",
       "      <td>77</td>\n",
       "      <td>77</td>\n",
       "      <td>4</td>\n",
       "      <td>4</td>\n",
       "    </tr>\n",
       "    <tr>\n",
       "      <th>S</th>\n",
       "      <td>644</td>\n",
       "      <td>644</td>\n",
       "      <td>644</td>\n",
       "      <td>644</td>\n",
       "      <td>644</td>\n",
       "      <td>554</td>\n",
       "      <td>644</td>\n",
       "      <td>644</td>\n",
       "      <td>644</td>\n",
       "      <td>644</td>\n",
       "      <td>129</td>\n",
       "      <td>129</td>\n",
       "    </tr>\n",
       "  </tbody>\n",
       "</table>\n",
       "</div>"
      ],
      "text/plain": [
       "          PassengerId  Survived  Pclass  Name  Sex  Age  SibSp  Parch  Ticket  \\\n",
       "Embarked                                                                        \n",
       "C                 168       168     168   168  168  130    168    168     168   \n",
       "Q                  77        77      77    77   77   28     77     77      77   \n",
       "S                 644       644     644   644  644  554    644    644     644   \n",
       "\n",
       "          Fare  Cabin  deck  \n",
       "Embarked                     \n",
       "C          168     69    69  \n",
       "Q           77      4     4  \n",
       "S          644    129   129  "
      ]
     },
     "execution_count": 42,
     "metadata": {},
     "output_type": "execute_result"
    }
   ],
   "source": [
    "df.groupby(['Embarked']).count()"
   ]
  },
  {
   "cell_type": "code",
   "execution_count": 43,
   "id": "bda04571-0dec-48d6-8bd1-e19de847271f",
   "metadata": {},
   "outputs": [
    {
     "data": {
      "text/html": [
       "<div>\n",
       "<style scoped>\n",
       "    .dataframe tbody tr th:only-of-type {\n",
       "        vertical-align: middle;\n",
       "    }\n",
       "\n",
       "    .dataframe tbody tr th {\n",
       "        vertical-align: top;\n",
       "    }\n",
       "\n",
       "    .dataframe thead th {\n",
       "        text-align: right;\n",
       "    }\n",
       "</style>\n",
       "<table border=\"1\" class=\"dataframe\">\n",
       "  <thead>\n",
       "    <tr style=\"text-align: right;\">\n",
       "      <th></th>\n",
       "      <th></th>\n",
       "      <th>PassengerId</th>\n",
       "      <th>Survived</th>\n",
       "      <th>Name</th>\n",
       "      <th>Sex</th>\n",
       "      <th>Age</th>\n",
       "      <th>SibSp</th>\n",
       "      <th>Parch</th>\n",
       "      <th>Ticket</th>\n",
       "      <th>Fare</th>\n",
       "      <th>Cabin</th>\n",
       "      <th>deck</th>\n",
       "    </tr>\n",
       "    <tr>\n",
       "      <th>Pclass</th>\n",
       "      <th>Embarked</th>\n",
       "      <th></th>\n",
       "      <th></th>\n",
       "      <th></th>\n",
       "      <th></th>\n",
       "      <th></th>\n",
       "      <th></th>\n",
       "      <th></th>\n",
       "      <th></th>\n",
       "      <th></th>\n",
       "      <th></th>\n",
       "      <th></th>\n",
       "    </tr>\n",
       "  </thead>\n",
       "  <tbody>\n",
       "    <tr>\n",
       "      <th rowspan=\"3\" valign=\"top\">1</th>\n",
       "      <th>C</th>\n",
       "      <td>85</td>\n",
       "      <td>85</td>\n",
       "      <td>85</td>\n",
       "      <td>85</td>\n",
       "      <td>74</td>\n",
       "      <td>85</td>\n",
       "      <td>85</td>\n",
       "      <td>85</td>\n",
       "      <td>85</td>\n",
       "      <td>66</td>\n",
       "      <td>66</td>\n",
       "    </tr>\n",
       "    <tr>\n",
       "      <th>Q</th>\n",
       "      <td>2</td>\n",
       "      <td>2</td>\n",
       "      <td>2</td>\n",
       "      <td>2</td>\n",
       "      <td>2</td>\n",
       "      <td>2</td>\n",
       "      <td>2</td>\n",
       "      <td>2</td>\n",
       "      <td>2</td>\n",
       "      <td>2</td>\n",
       "      <td>2</td>\n",
       "    </tr>\n",
       "    <tr>\n",
       "      <th>S</th>\n",
       "      <td>127</td>\n",
       "      <td>127</td>\n",
       "      <td>127</td>\n",
       "      <td>127</td>\n",
       "      <td>108</td>\n",
       "      <td>127</td>\n",
       "      <td>127</td>\n",
       "      <td>127</td>\n",
       "      <td>127</td>\n",
       "      <td>106</td>\n",
       "      <td>106</td>\n",
       "    </tr>\n",
       "    <tr>\n",
       "      <th rowspan=\"3\" valign=\"top\">2</th>\n",
       "      <th>C</th>\n",
       "      <td>17</td>\n",
       "      <td>17</td>\n",
       "      <td>17</td>\n",
       "      <td>17</td>\n",
       "      <td>15</td>\n",
       "      <td>17</td>\n",
       "      <td>17</td>\n",
       "      <td>17</td>\n",
       "      <td>17</td>\n",
       "      <td>2</td>\n",
       "      <td>2</td>\n",
       "    </tr>\n",
       "    <tr>\n",
       "      <th>Q</th>\n",
       "      <td>3</td>\n",
       "      <td>3</td>\n",
       "      <td>3</td>\n",
       "      <td>3</td>\n",
       "      <td>2</td>\n",
       "      <td>3</td>\n",
       "      <td>3</td>\n",
       "      <td>3</td>\n",
       "      <td>3</td>\n",
       "      <td>1</td>\n",
       "      <td>1</td>\n",
       "    </tr>\n",
       "    <tr>\n",
       "      <th>S</th>\n",
       "      <td>164</td>\n",
       "      <td>164</td>\n",
       "      <td>164</td>\n",
       "      <td>164</td>\n",
       "      <td>156</td>\n",
       "      <td>164</td>\n",
       "      <td>164</td>\n",
       "      <td>164</td>\n",
       "      <td>164</td>\n",
       "      <td>13</td>\n",
       "      <td>13</td>\n",
       "    </tr>\n",
       "    <tr>\n",
       "      <th rowspan=\"3\" valign=\"top\">3</th>\n",
       "      <th>C</th>\n",
       "      <td>66</td>\n",
       "      <td>66</td>\n",
       "      <td>66</td>\n",
       "      <td>66</td>\n",
       "      <td>41</td>\n",
       "      <td>66</td>\n",
       "      <td>66</td>\n",
       "      <td>66</td>\n",
       "      <td>66</td>\n",
       "      <td>1</td>\n",
       "      <td>1</td>\n",
       "    </tr>\n",
       "    <tr>\n",
       "      <th>Q</th>\n",
       "      <td>72</td>\n",
       "      <td>72</td>\n",
       "      <td>72</td>\n",
       "      <td>72</td>\n",
       "      <td>24</td>\n",
       "      <td>72</td>\n",
       "      <td>72</td>\n",
       "      <td>72</td>\n",
       "      <td>72</td>\n",
       "      <td>1</td>\n",
       "      <td>1</td>\n",
       "    </tr>\n",
       "    <tr>\n",
       "      <th>S</th>\n",
       "      <td>353</td>\n",
       "      <td>353</td>\n",
       "      <td>353</td>\n",
       "      <td>353</td>\n",
       "      <td>290</td>\n",
       "      <td>353</td>\n",
       "      <td>353</td>\n",
       "      <td>353</td>\n",
       "      <td>353</td>\n",
       "      <td>10</td>\n",
       "      <td>10</td>\n",
       "    </tr>\n",
       "  </tbody>\n",
       "</table>\n",
       "</div>"
      ],
      "text/plain": [
       "                 PassengerId  Survived  Name  Sex  Age  SibSp  Parch  Ticket  \\\n",
       "Pclass Embarked                                                                \n",
       "1      C                  85        85    85   85   74     85     85      85   \n",
       "       Q                   2         2     2    2    2      2      2       2   \n",
       "       S                 127       127   127  127  108    127    127     127   \n",
       "2      C                  17        17    17   17   15     17     17      17   \n",
       "       Q                   3         3     3    3    2      3      3       3   \n",
       "       S                 164       164   164  164  156    164    164     164   \n",
       "3      C                  66        66    66   66   41     66     66      66   \n",
       "       Q                  72        72    72   72   24     72     72      72   \n",
       "       S                 353       353   353  353  290    353    353     353   \n",
       "\n",
       "                 Fare  Cabin  deck  \n",
       "Pclass Embarked                     \n",
       "1      C           85     66    66  \n",
       "       Q            2      2     2  \n",
       "       S          127    106   106  \n",
       "2      C           17      2     2  \n",
       "       Q            3      1     1  \n",
       "       S          164     13    13  \n",
       "3      C           66      1     1  \n",
       "       Q           72      1     1  \n",
       "       S          353     10    10  "
      ]
     },
     "execution_count": 43,
     "metadata": {},
     "output_type": "execute_result"
    }
   ],
   "source": [
    "df.groupby(['Pclass', 'Embarked']).count()"
   ]
  },
  {
   "cell_type": "markdown",
   "id": "ce683b1b-116c-43f6-9f20-c4b2a7ca58e9",
   "metadata": {},
   "source": [
    "S=Southampton\\\n",
    "C=Cherbourg\\\n",
    "Q=Queenstown"
   ]
  },
  {
   "cell_type": "code",
   "execution_count": 77,
   "id": "2cb9daaf-8e8e-46a1-b9b6-d72439ab4828",
   "metadata": {},
   "outputs": [
    {
     "data": {
      "text/plain": [
       "S    72.440945\n",
       "C    18.897638\n",
       "Q     8.661417\n",
       "Name: Embarked, dtype: float64"
      ]
     },
     "execution_count": 77,
     "metadata": {},
     "output_type": "execute_result"
    }
   ],
   "source": [
    "df.Embarked.value_counts(normalize = True)*100"
   ]
  },
  {
   "cell_type": "code",
   "execution_count": 58,
   "id": "5fcb3c0c-661b-45c7-a6bf-cc687edc7fec",
   "metadata": {},
   "outputs": [
    {
     "data": {
      "text/plain": [
       "S    644\n",
       "C    168\n",
       "Q     77\n",
       "Name: Embarked, dtype: int64"
      ]
     },
     "execution_count": 58,
     "metadata": {},
     "output_type": "execute_result"
    }
   ],
   "source": [
    "df.Embarked.value_counts()"
   ]
  },
  {
   "cell_type": "code",
   "execution_count": 20,
   "id": "bc15b730-6d11-4da6-8c2f-b89850c46618",
   "metadata": {},
   "outputs": [
    {
     "data": {
      "text/plain": [
       "Pclass  Embarked\n",
       "1       C            85\n",
       "        Q             2\n",
       "        S           127\n",
       "2       C            17\n",
       "        Q             3\n",
       "        S           164\n",
       "3       C            66\n",
       "        Q            72\n",
       "        S           353\n",
       "Name: PassengerId, dtype: int64"
      ]
     },
     "execution_count": 20,
     "metadata": {},
     "output_type": "execute_result"
    }
   ],
   "source": [
    "df.groupby(['Pclass', 'Embarked']).PassengerId.count()"
   ]
  },
  {
   "cell_type": "markdown",
   "id": "db5f3868-e2f8-4a59-b232-c55185c14723",
   "metadata": {},
   "source": [
    "3. Where the passengers come from?\n",
    "Around 72.4%(644 passengers) of our passengers came from Southampton, 18.9%(168 passengers) came from Cherboug, and 8.8%(77 passengers) came from Queenstown.\\\n",
    "Most people came from Southampton and are Pclass3, Pclass2, and Pclass1 respectively."
   ]
  },
  {
   "cell_type": "code",
   "execution_count": 49,
   "id": "bf1a2c23-d2a8-46f0-8aa0-0ff7d43a62dc",
   "metadata": {},
   "outputs": [
    {
     "data": {
      "text/plain": [
       "count      891\n",
       "unique       2\n",
       "top       male\n",
       "freq       577\n",
       "Name: Sex, dtype: object"
      ]
     },
     "execution_count": 49,
     "metadata": {},
     "output_type": "execute_result"
    }
   ],
   "source": [
    "df.Sex.describe()"
   ]
  },
  {
   "cell_type": "code",
   "execution_count": 33,
   "id": "7fc2e03f-c127-4ccb-97db-062dcf1fe78a",
   "metadata": {},
   "outputs": [],
   "source": [
    "def data(row):\n",
    "    if row.Survived == 1 and row.Sex == 'female':\n",
    "        return 'female survived'\n",
    "    elif row.Survived == 1 and row.Sex =='male':\n",
    "        return 'male survived'\n",
    "    elif row.Survived == 0 and row.Sex == 'female':\n",
    "        return 'female died'\n",
    "    else:\n",
    "        return 'male died'"
   ]
  },
  {
   "cell_type": "code",
   "execution_count": 34,
   "id": "94644731-c4e0-4c68-a238-7d9de9e2739c",
   "metadata": {},
   "outputs": [],
   "source": [
    "df['survival_gender'] = df.apply(data, axis='columns')"
   ]
  },
  {
   "cell_type": "code",
   "execution_count": null,
   "id": "2e9e1769-1b94-4eff-9641-31ba3a0c46b4",
   "metadata": {},
   "outputs": [],
   "source": []
  },
  {
   "cell_type": "code",
   "execution_count": 34,
   "id": "81b96d6e-cbaa-48f5-bb47-937dcfbed2bb",
   "metadata": {},
   "outputs": [
    {
     "data": {
      "text/html": [
       "<div>\n",
       "<style scoped>\n",
       "    .dataframe tbody tr th:only-of-type {\n",
       "        vertical-align: middle;\n",
       "    }\n",
       "\n",
       "    .dataframe tbody tr th {\n",
       "        vertical-align: top;\n",
       "    }\n",
       "\n",
       "    .dataframe thead th {\n",
       "        text-align: right;\n",
       "    }\n",
       "</style>\n",
       "<table border=\"1\" class=\"dataframe\">\n",
       "  <thead>\n",
       "    <tr style=\"text-align: right;\">\n",
       "      <th></th>\n",
       "      <th>PassengerId</th>\n",
       "      <th>Survived</th>\n",
       "      <th>Pclass</th>\n",
       "      <th>Name</th>\n",
       "      <th>Sex</th>\n",
       "      <th>Age</th>\n",
       "      <th>SibSp</th>\n",
       "      <th>Parch</th>\n",
       "      <th>Ticket</th>\n",
       "      <th>Fare</th>\n",
       "      <th>Cabin</th>\n",
       "      <th>Embarked</th>\n",
       "      <th>survival_gender</th>\n",
       "    </tr>\n",
       "  </thead>\n",
       "  <tbody>\n",
       "    <tr>\n",
       "      <th>0</th>\n",
       "      <td>1</td>\n",
       "      <td>0</td>\n",
       "      <td>3</td>\n",
       "      <td>Braund, Mr. Owen Harris</td>\n",
       "      <td>male</td>\n",
       "      <td>22.0</td>\n",
       "      <td>1</td>\n",
       "      <td>0</td>\n",
       "      <td>A/5 21171</td>\n",
       "      <td>7.2500</td>\n",
       "      <td>NaN</td>\n",
       "      <td>S</td>\n",
       "      <td>male died</td>\n",
       "    </tr>\n",
       "    <tr>\n",
       "      <th>1</th>\n",
       "      <td>2</td>\n",
       "      <td>1</td>\n",
       "      <td>1</td>\n",
       "      <td>Cumings, Mrs. John Bradley (Florence Briggs Th...</td>\n",
       "      <td>female</td>\n",
       "      <td>38.0</td>\n",
       "      <td>1</td>\n",
       "      <td>0</td>\n",
       "      <td>PC 17599</td>\n",
       "      <td>71.2833</td>\n",
       "      <td>C85</td>\n",
       "      <td>C</td>\n",
       "      <td>female survived</td>\n",
       "    </tr>\n",
       "    <tr>\n",
       "      <th>2</th>\n",
       "      <td>3</td>\n",
       "      <td>1</td>\n",
       "      <td>3</td>\n",
       "      <td>Heikkinen, Miss. Laina</td>\n",
       "      <td>female</td>\n",
       "      <td>26.0</td>\n",
       "      <td>0</td>\n",
       "      <td>0</td>\n",
       "      <td>STON/O2. 3101282</td>\n",
       "      <td>7.9250</td>\n",
       "      <td>NaN</td>\n",
       "      <td>S</td>\n",
       "      <td>female survived</td>\n",
       "    </tr>\n",
       "    <tr>\n",
       "      <th>3</th>\n",
       "      <td>4</td>\n",
       "      <td>1</td>\n",
       "      <td>1</td>\n",
       "      <td>Futrelle, Mrs. Jacques Heath (Lily May Peel)</td>\n",
       "      <td>female</td>\n",
       "      <td>35.0</td>\n",
       "      <td>1</td>\n",
       "      <td>0</td>\n",
       "      <td>113803</td>\n",
       "      <td>53.1000</td>\n",
       "      <td>C123</td>\n",
       "      <td>S</td>\n",
       "      <td>female survived</td>\n",
       "    </tr>\n",
       "    <tr>\n",
       "      <th>4</th>\n",
       "      <td>5</td>\n",
       "      <td>0</td>\n",
       "      <td>3</td>\n",
       "      <td>Allen, Mr. William Henry</td>\n",
       "      <td>male</td>\n",
       "      <td>35.0</td>\n",
       "      <td>0</td>\n",
       "      <td>0</td>\n",
       "      <td>373450</td>\n",
       "      <td>8.0500</td>\n",
       "      <td>NaN</td>\n",
       "      <td>S</td>\n",
       "      <td>male died</td>\n",
       "    </tr>\n",
       "  </tbody>\n",
       "</table>\n",
       "</div>"
      ],
      "text/plain": [
       "   PassengerId  Survived  Pclass  \\\n",
       "0            1         0       3   \n",
       "1            2         1       1   \n",
       "2            3         1       3   \n",
       "3            4         1       1   \n",
       "4            5         0       3   \n",
       "\n",
       "                                                Name     Sex   Age  SibSp  \\\n",
       "0                            Braund, Mr. Owen Harris    male  22.0      1   \n",
       "1  Cumings, Mrs. John Bradley (Florence Briggs Th...  female  38.0      1   \n",
       "2                             Heikkinen, Miss. Laina  female  26.0      0   \n",
       "3       Futrelle, Mrs. Jacques Heath (Lily May Peel)  female  35.0      1   \n",
       "4                           Allen, Mr. William Henry    male  35.0      0   \n",
       "\n",
       "   Parch            Ticket     Fare Cabin Embarked  survival_gender  \n",
       "0      0         A/5 21171   7.2500   NaN        S        male died  \n",
       "1      0          PC 17599  71.2833   C85        C  female survived  \n",
       "2      0  STON/O2. 3101282   7.9250   NaN        S  female survived  \n",
       "3      0            113803  53.1000  C123        S  female survived  \n",
       "4      0            373450   8.0500   NaN        S        male died  "
      ]
     },
     "execution_count": 34,
     "metadata": {},
     "output_type": "execute_result"
    }
   ],
   "source": [
    "df.head()"
   ]
  },
  {
   "cell_type": "code",
   "execution_count": 35,
   "id": "9b077299-449a-4607-8070-be62fb0222cd",
   "metadata": {},
   "outputs": [
    {
     "data": {
      "text/plain": [
       "male died          0.525253\n",
       "female survived    0.261504\n",
       "male survived      0.122334\n",
       "female died        0.090909\n",
       "Name: survival_gender, dtype: float64"
      ]
     },
     "execution_count": 35,
     "metadata": {},
     "output_type": "execute_result"
    }
   ],
   "source": [
    "df.survival_gender.value_counts(normalize = True)"
   ]
  },
  {
   "cell_type": "code",
   "execution_count": null,
   "id": "26efb944-0a6b-46fe-bec4-438fac01d05e",
   "metadata": {},
   "outputs": [
    {
     "data": {
      "text/plain": [
       "count           891\n",
       "unique            4\n",
       "top       male died\n",
       "freq            468\n",
       "Name: survival_gender, dtype: object"
      ]
     },
     "execution_count": 50,
     "metadata": {},
     "output_type": "execute_result"
    }
   ],
   "source": [
    "df.survival_gender.describe()"
   ]
  },
  {
   "cell_type": "code",
   "execution_count": 43,
   "id": "386984da-2b09-4295-a0c3-511e5e8526db",
   "metadata": {},
   "outputs": [
    {
     "data": {
      "text/plain": [
       "male died          468\n",
       "female survived    233\n",
       "male survived      109\n",
       "female died         81\n",
       "Name: survival_gender, dtype: int64"
      ]
     },
     "execution_count": 43,
     "metadata": {},
     "output_type": "execute_result"
    }
   ],
   "source": [
    "df.survival_gender.value_counts()"
   ]
  },
  {
   "cell_type": "code",
   "execution_count": 59,
   "id": "18ec09be-81b9-4533-816e-fc4747144137",
   "metadata": {},
   "outputs": [
    {
     "data": {
      "text/plain": [
       "survival_gender\n",
       "female died        23.024385\n",
       "female survived    51.938573\n",
       "male died          21.960993\n",
       "male survived      40.821484\n",
       "Name: Fare, dtype: float64"
      ]
     },
     "execution_count": 59,
     "metadata": {},
     "output_type": "execute_result"
    }
   ],
   "source": [
    "df.groupby('survival_gender').Fare.mean()"
   ]
  },
  {
   "cell_type": "code",
   "execution_count": 79,
   "id": "22a9240e-f54d-4df4-8121-222bf581191f",
   "metadata": {},
   "outputs": [
    {
     "data": {
      "text/plain": [
       "survival_gender  Pclass\n",
       "female died      1           3\n",
       "                 2           6\n",
       "                 3          72\n",
       "female survived  1          91\n",
       "                 2          70\n",
       "                 3          72\n",
       "male died        1          77\n",
       "                 2          91\n",
       "                 3         300\n",
       "male survived    1          45\n",
       "                 2          17\n",
       "                 3          47\n",
       "Name: PassengerId, dtype: int64"
      ]
     },
     "execution_count": 79,
     "metadata": {},
     "output_type": "execute_result"
    }
   ],
   "source": [
    "df.groupby(['survival_gender','Pclass']).PassengerId.count()"
   ]
  },
  {
   "cell_type": "code",
   "execution_count": 24,
   "id": "b34739dd-0e55-4980-b27a-01c3d27c005f",
   "metadata": {},
   "outputs": [
    {
     "data": {
      "text/plain": [
       "Survived  Pclass  Sex   \n",
       "0         1       female      3\n",
       "                  male       77\n",
       "          2       female      6\n",
       "                  male       91\n",
       "          3       female     72\n",
       "                  male      300\n",
       "1         1       female     91\n",
       "                  male       45\n",
       "          2       female     70\n",
       "                  male       17\n",
       "          3       female     72\n",
       "                  male       47\n",
       "Name: PassengerId, dtype: int64"
      ]
     },
     "execution_count": 24,
     "metadata": {},
     "output_type": "execute_result"
    }
   ],
   "source": [
    "df.groupby(['Survived', 'Pclass','Sex']).PassengerId.count()"
   ]
  },
  {
   "cell_type": "code",
   "execution_count": 16,
   "id": "c3fd18a6-9323-4c78-a136-331931ac2ff4",
   "metadata": {},
   "outputs": [
    {
     "data": {
      "text/plain": [
       "Survived  Pclass\n",
       "0         1         43.695312\n",
       "          2         33.544444\n",
       "          3         26.555556\n",
       "1         1         35.368197\n",
       "          2         25.901566\n",
       "          3         20.646118\n",
       "Name: Age, dtype: float64"
      ]
     },
     "execution_count": 16,
     "metadata": {},
     "output_type": "execute_result"
    }
   ],
   "source": [
    "df.groupby(['Survived', 'Pclass']).Age.mean()"
   ]
  },
  {
   "cell_type": "markdown",
   "id": "31318a9c-4576-489a-85bb-cfd0d97490cf",
   "metadata": {},
   "source": [
    "1.What factors helped them survive?\\\n",
    "Being a woman and having family members had the largest impact on whether you were going to survive.\\\n",
    "233 women survived:\\\n",
    "Pclass1: 91, Pclass2: 70, Pclass3: 72\\\n",
    "Survived with family: 134 women, 64 men\\\n",
    "Died with family: 121 men, 27 women\\\n",
    "109 males survived(men who survived had younger average age compared to women who survived):\\\n",
    "Pclass1: 45, Pclass2: 17, Pclass3: 47. 64 men traveling alone and 45 men traveling with family survived."
   ]
  },
  {
   "cell_type": "code",
   "execution_count": 111,
   "id": "7ec5111b-086c-4eab-855c-8fceb1e93405",
   "metadata": {},
   "outputs": [
    {
     "data": {
      "text/html": [
       "<div>\n",
       "<style scoped>\n",
       "    .dataframe tbody tr th:only-of-type {\n",
       "        vertical-align: middle;\n",
       "    }\n",
       "\n",
       "    .dataframe tbody tr th {\n",
       "        vertical-align: top;\n",
       "    }\n",
       "\n",
       "    .dataframe thead th {\n",
       "        text-align: right;\n",
       "    }\n",
       "</style>\n",
       "<table border=\"1\" class=\"dataframe\">\n",
       "  <thead>\n",
       "    <tr style=\"text-align: right;\">\n",
       "      <th></th>\n",
       "      <th>PassengerId</th>\n",
       "      <th>Survived</th>\n",
       "      <th>Pclass</th>\n",
       "      <th>Name</th>\n",
       "      <th>Sex</th>\n",
       "      <th>Age</th>\n",
       "      <th>SibSp</th>\n",
       "      <th>Parch</th>\n",
       "      <th>Ticket</th>\n",
       "      <th>Fare</th>\n",
       "      <th>Cabin</th>\n",
       "      <th>Embarked</th>\n",
       "      <th>survival_gender</th>\n",
       "      <th>deck</th>\n",
       "    </tr>\n",
       "  </thead>\n",
       "  <tbody>\n",
       "    <tr>\n",
       "      <th>0</th>\n",
       "      <td>1</td>\n",
       "      <td>0</td>\n",
       "      <td>3</td>\n",
       "      <td>Braund, Mr. Owen Harris</td>\n",
       "      <td>male</td>\n",
       "      <td>22.0</td>\n",
       "      <td>1</td>\n",
       "      <td>0</td>\n",
       "      <td>A/5 21171</td>\n",
       "      <td>7.25</td>\n",
       "      <td>NaN</td>\n",
       "      <td>S</td>\n",
       "      <td>male died</td>\n",
       "      <td>NaN</td>\n",
       "    </tr>\n",
       "  </tbody>\n",
       "</table>\n",
       "</div>"
      ],
      "text/plain": [
       "   PassengerId  Survived  Pclass                     Name   Sex   Age  SibSp  \\\n",
       "0            1         0       3  Braund, Mr. Owen Harris  male  22.0      1   \n",
       "\n",
       "   Parch     Ticket  Fare Cabin Embarked survival_gender deck  \n",
       "0      0  A/5 21171  7.25   NaN        S       male died  NaN  "
      ]
     },
     "execution_count": 111,
     "metadata": {},
     "output_type": "execute_result"
    }
   ],
   "source": [
    "df.head(1)"
   ]
  },
  {
   "cell_type": "code",
   "execution_count": 30,
   "id": "4268dac0-cd5c-4ea9-bba0-c0b3ee516396",
   "metadata": {},
   "outputs": [
    {
     "data": {
      "text/plain": [
       "Survived  Pclass  deck\n",
       "0         1       C       24\n",
       "                  B       12\n",
       "                  A        8\n",
       "                  D        7\n",
       "                  E        7\n",
       "                  T        1\n",
       "          2       D        1\n",
       "                  E        1\n",
       "                  F        1\n",
       "          3       F        4\n",
       "                  G        2\n",
       "1         1       B       35\n",
       "                  C       35\n",
       "                  D       22\n",
       "                  E       18\n",
       "                  A        7\n",
       "          2       F        7\n",
       "                  D        3\n",
       "                  E        3\n",
       "          3       E        3\n",
       "                  G        2\n",
       "                  F        1\n",
       "Name: deck, dtype: int64"
      ]
     },
     "execution_count": 30,
     "metadata": {},
     "output_type": "execute_result"
    }
   ],
   "source": [
    "df.groupby(['Survived', 'Pclass']).deck.value_counts()"
   ]
  },
  {
   "cell_type": "markdown",
   "id": "5c03a0bd-706b-4b02-b9cb-5e81e45bd8ec",
   "metadata": {},
   "source": [
    "There are 687 nulls in the cabin(deck) field which does impedes proper analysis.\\\n",
    "Survival was good for B, C, and D.\\\n",
    "Pclass 1 stayed primarily in C and B.\\\n",
    "Pclass 2 and 3 stayed in F, D, E, and G."
   ]
  },
  {
   "cell_type": "code",
   "execution_count": 8,
   "id": "d65e55e6-c085-4b4e-94b0-da49dd0ecb60",
   "metadata": {},
   "outputs": [],
   "source": [
    "def alone(row):\n",
    "    if row.SibSp == 0 & row.Parch==0:\n",
    "        return 'alone'\n",
    "    else: \n",
    "        return 'not alone'"
   ]
  },
  {
   "cell_type": "code",
   "execution_count": 9,
   "id": "53b9a3d1-db43-4655-bb2c-4a5a8a013695",
   "metadata": {},
   "outputs": [],
   "source": [
    "df['has_family'] = df.apply(alone, axis = 'columns')"
   ]
  },
  {
   "cell_type": "code",
   "execution_count": 10,
   "id": "88ad8173-89f9-4575-ae7c-afab085888eb",
   "metadata": {},
   "outputs": [
    {
     "data": {
      "text/html": [
       "<div>\n",
       "<style scoped>\n",
       "    .dataframe tbody tr th:only-of-type {\n",
       "        vertical-align: middle;\n",
       "    }\n",
       "\n",
       "    .dataframe tbody tr th {\n",
       "        vertical-align: top;\n",
       "    }\n",
       "\n",
       "    .dataframe thead th {\n",
       "        text-align: right;\n",
       "    }\n",
       "</style>\n",
       "<table border=\"1\" class=\"dataframe\">\n",
       "  <thead>\n",
       "    <tr style=\"text-align: right;\">\n",
       "      <th></th>\n",
       "      <th>PassengerId</th>\n",
       "      <th>Survived</th>\n",
       "      <th>Pclass</th>\n",
       "      <th>Name</th>\n",
       "      <th>Sex</th>\n",
       "      <th>Age</th>\n",
       "      <th>SibSp</th>\n",
       "      <th>Parch</th>\n",
       "      <th>Ticket</th>\n",
       "      <th>Fare</th>\n",
       "      <th>Cabin</th>\n",
       "      <th>Embarked</th>\n",
       "      <th>deck</th>\n",
       "      <th>has_family</th>\n",
       "    </tr>\n",
       "  </thead>\n",
       "  <tbody>\n",
       "    <tr>\n",
       "      <th>0</th>\n",
       "      <td>1</td>\n",
       "      <td>0</td>\n",
       "      <td>3</td>\n",
       "      <td>Braund, Mr. Owen Harris</td>\n",
       "      <td>male</td>\n",
       "      <td>22.0</td>\n",
       "      <td>1</td>\n",
       "      <td>0</td>\n",
       "      <td>A/5 21171</td>\n",
       "      <td>7.2500</td>\n",
       "      <td>NaN</td>\n",
       "      <td>S</td>\n",
       "      <td>NaN</td>\n",
       "      <td>not alone</td>\n",
       "    </tr>\n",
       "    <tr>\n",
       "      <th>1</th>\n",
       "      <td>2</td>\n",
       "      <td>1</td>\n",
       "      <td>1</td>\n",
       "      <td>Cumings, Mrs. John Bradley (Florence Briggs Th...</td>\n",
       "      <td>female</td>\n",
       "      <td>38.0</td>\n",
       "      <td>1</td>\n",
       "      <td>0</td>\n",
       "      <td>PC 17599</td>\n",
       "      <td>71.2833</td>\n",
       "      <td>C85</td>\n",
       "      <td>C</td>\n",
       "      <td>C</td>\n",
       "      <td>not alone</td>\n",
       "    </tr>\n",
       "    <tr>\n",
       "      <th>2</th>\n",
       "      <td>3</td>\n",
       "      <td>1</td>\n",
       "      <td>3</td>\n",
       "      <td>Heikkinen, Miss. Laina</td>\n",
       "      <td>female</td>\n",
       "      <td>26.0</td>\n",
       "      <td>0</td>\n",
       "      <td>0</td>\n",
       "      <td>STON/O2. 3101282</td>\n",
       "      <td>7.9250</td>\n",
       "      <td>NaN</td>\n",
       "      <td>S</td>\n",
       "      <td>NaN</td>\n",
       "      <td>alone</td>\n",
       "    </tr>\n",
       "    <tr>\n",
       "      <th>3</th>\n",
       "      <td>4</td>\n",
       "      <td>1</td>\n",
       "      <td>1</td>\n",
       "      <td>Futrelle, Mrs. Jacques Heath (Lily May Peel)</td>\n",
       "      <td>female</td>\n",
       "      <td>35.0</td>\n",
       "      <td>1</td>\n",
       "      <td>0</td>\n",
       "      <td>113803</td>\n",
       "      <td>53.1000</td>\n",
       "      <td>C123</td>\n",
       "      <td>S</td>\n",
       "      <td>C</td>\n",
       "      <td>not alone</td>\n",
       "    </tr>\n",
       "    <tr>\n",
       "      <th>4</th>\n",
       "      <td>5</td>\n",
       "      <td>0</td>\n",
       "      <td>3</td>\n",
       "      <td>Allen, Mr. William Henry</td>\n",
       "      <td>male</td>\n",
       "      <td>35.0</td>\n",
       "      <td>0</td>\n",
       "      <td>0</td>\n",
       "      <td>373450</td>\n",
       "      <td>8.0500</td>\n",
       "      <td>NaN</td>\n",
       "      <td>S</td>\n",
       "      <td>NaN</td>\n",
       "      <td>alone</td>\n",
       "    </tr>\n",
       "  </tbody>\n",
       "</table>\n",
       "</div>"
      ],
      "text/plain": [
       "   PassengerId  Survived  Pclass  \\\n",
       "0            1         0       3   \n",
       "1            2         1       1   \n",
       "2            3         1       3   \n",
       "3            4         1       1   \n",
       "4            5         0       3   \n",
       "\n",
       "                                                Name     Sex   Age  SibSp  \\\n",
       "0                            Braund, Mr. Owen Harris    male  22.0      1   \n",
       "1  Cumings, Mrs. John Bradley (Florence Briggs Th...  female  38.0      1   \n",
       "2                             Heikkinen, Miss. Laina  female  26.0      0   \n",
       "3       Futrelle, Mrs. Jacques Heath (Lily May Peel)  female  35.0      1   \n",
       "4                           Allen, Mr. William Henry    male  35.0      0   \n",
       "\n",
       "   Parch            Ticket     Fare Cabin Embarked deck has_family  \n",
       "0      0         A/5 21171   7.2500   NaN        S  NaN  not alone  \n",
       "1      0          PC 17599  71.2833   C85        C    C  not alone  \n",
       "2      0  STON/O2. 3101282   7.9250   NaN        S  NaN      alone  \n",
       "3      0            113803  53.1000  C123        S    C  not alone  \n",
       "4      0            373450   8.0500   NaN        S  NaN      alone  "
      ]
     },
     "execution_count": 10,
     "metadata": {},
     "output_type": "execute_result"
    }
   ],
   "source": [
    "df.head()"
   ]
  },
  {
   "cell_type": "code",
   "execution_count": 11,
   "id": "fc3985d7-73dd-46d5-873e-1b75b83ca3fb",
   "metadata": {},
   "outputs": [
    {
     "data": {
      "text/html": [
       "<div>\n",
       "<style scoped>\n",
       "    .dataframe tbody tr th:only-of-type {\n",
       "        vertical-align: middle;\n",
       "    }\n",
       "\n",
       "    .dataframe tbody tr th {\n",
       "        vertical-align: top;\n",
       "    }\n",
       "\n",
       "    .dataframe thead th {\n",
       "        text-align: right;\n",
       "    }\n",
       "</style>\n",
       "<table border=\"1\" class=\"dataframe\">\n",
       "  <thead>\n",
       "    <tr style=\"text-align: right;\">\n",
       "      <th></th>\n",
       "      <th>PassengerId</th>\n",
       "      <th>Survived</th>\n",
       "      <th>Pclass</th>\n",
       "      <th>Name</th>\n",
       "      <th>Sex</th>\n",
       "      <th>Age</th>\n",
       "      <th>SibSp</th>\n",
       "      <th>Parch</th>\n",
       "      <th>Ticket</th>\n",
       "      <th>Fare</th>\n",
       "      <th>Cabin</th>\n",
       "      <th>Embarked</th>\n",
       "      <th>deck</th>\n",
       "    </tr>\n",
       "    <tr>\n",
       "      <th>has_family</th>\n",
       "      <th></th>\n",
       "      <th></th>\n",
       "      <th></th>\n",
       "      <th></th>\n",
       "      <th></th>\n",
       "      <th></th>\n",
       "      <th></th>\n",
       "      <th></th>\n",
       "      <th></th>\n",
       "      <th></th>\n",
       "      <th></th>\n",
       "      <th></th>\n",
       "      <th></th>\n",
       "    </tr>\n",
       "  </thead>\n",
       "  <tbody>\n",
       "    <tr>\n",
       "      <th>alone</th>\n",
       "      <td>608</td>\n",
       "      <td>608</td>\n",
       "      <td>608</td>\n",
       "      <td>608</td>\n",
       "      <td>608</td>\n",
       "      <td>471</td>\n",
       "      <td>608</td>\n",
       "      <td>608</td>\n",
       "      <td>608</td>\n",
       "      <td>608</td>\n",
       "      <td>126</td>\n",
       "      <td>606</td>\n",
       "      <td>126</td>\n",
       "    </tr>\n",
       "    <tr>\n",
       "      <th>not alone</th>\n",
       "      <td>283</td>\n",
       "      <td>283</td>\n",
       "      <td>283</td>\n",
       "      <td>283</td>\n",
       "      <td>283</td>\n",
       "      <td>243</td>\n",
       "      <td>283</td>\n",
       "      <td>283</td>\n",
       "      <td>283</td>\n",
       "      <td>283</td>\n",
       "      <td>78</td>\n",
       "      <td>283</td>\n",
       "      <td>78</td>\n",
       "    </tr>\n",
       "  </tbody>\n",
       "</table>\n",
       "</div>"
      ],
      "text/plain": [
       "            PassengerId  Survived  Pclass  Name  Sex  Age  SibSp  Parch  \\\n",
       "has_family                                                                \n",
       "alone               608       608     608   608  608  471    608    608   \n",
       "not alone           283       283     283   283  283  243    283    283   \n",
       "\n",
       "            Ticket  Fare  Cabin  Embarked  deck  \n",
       "has_family                                       \n",
       "alone          608   608    126       606   126  \n",
       "not alone      283   283     78       283    78  "
      ]
     },
     "execution_count": 11,
     "metadata": {},
     "output_type": "execute_result"
    }
   ],
   "source": [
    "df.groupby('has_family').count()"
   ]
  },
  {
   "cell_type": "code",
   "execution_count": 78,
   "id": "b6cd9bde-9fcb-4085-9283-c610fe1b6281",
   "metadata": {},
   "outputs": [
    {
     "data": {
      "text/plain": [
       "survival_gender  Pclass\n",
       "female died      1         25.666667\n",
       "                 2         36.000000\n",
       "                 3         23.818182\n",
       "female survived  1         34.939024\n",
       "                 2         28.080882\n",
       "                 3         19.329787\n",
       "male died        1         44.581967\n",
       "                 2         33.369048\n",
       "                 3         27.255814\n",
       "male survived    1         36.248000\n",
       "                 2         16.022000\n",
       "                 3         22.274211\n",
       "Name: Age, dtype: float64"
      ]
     },
     "execution_count": 78,
     "metadata": {},
     "output_type": "execute_result"
    }
   ],
   "source": [
    "df.groupby(['survival_gender', 'Pclass']).Age.mean()"
   ]
  },
  {
   "cell_type": "code",
   "execution_count": 12,
   "id": "e70684fc-ee48-4209-b2ad-8dfd946c1571",
   "metadata": {},
   "outputs": [
    {
     "data": {
      "text/plain": [
       "has_family  Sex     Pclass\n",
       "alone       female  3          81\n",
       "                    1          49\n",
       "                    2          44\n",
       "            male    3         270\n",
       "                    1          88\n",
       "                    2          76\n",
       "not alone   female  3          63\n",
       "                    1          45\n",
       "                    2          32\n",
       "            male    3          77\n",
       "                    1          34\n",
       "                    2          32\n",
       "Name: Pclass, dtype: int64"
      ]
     },
     "execution_count": 12,
     "metadata": {},
     "output_type": "execute_result"
    }
   ],
   "source": [
    "df.groupby(['has_family', 'Sex']).Pclass.value_counts()"
   ]
  },
  {
   "cell_type": "code",
   "execution_count": 15,
   "id": "a0ef581a-1809-4df8-995d-6d6fdcf11a4d",
   "metadata": {},
   "outputs": [
    {
     "data": {
      "text/plain": [
       "Survived  has_family  Pclass\n",
       "0         alone       1         46.375000\n",
       "                      2         33.833333\n",
       "                      3         29.103175\n",
       "          not alone   1         37.800000\n",
       "                      2         32.870370\n",
       "                      3         20.611111\n",
       "1         alone       1         34.594203\n",
       "                      2         29.333261\n",
       "                      3         22.990333\n",
       "          not alone   1         36.375849\n",
       "                      2         21.635135\n",
       "                      3         15.020000\n",
       "Name: Age, dtype: float64"
      ]
     },
     "execution_count": 15,
     "metadata": {},
     "output_type": "execute_result"
    }
   ],
   "source": [
    "df.groupby(['Survived', 'has_family','Pclass']).Age.mean()"
   ]
  },
  {
   "cell_type": "markdown",
   "id": "7e96e31d-064b-479b-8a57-26e02b156a0b",
   "metadata": {},
   "source": [
    "Being alone played a pretty large role on those who survived or not."
   ]
  },
  {
   "cell_type": "code",
   "execution_count": 29,
   "id": "77f03080-cff1-46ed-af79-40366e64f062",
   "metadata": {},
   "outputs": [
    {
     "data": {
      "text/plain": [
       "Survived  Sex     has_family\n",
       "0         female  not alone      44\n",
       "                  alone          37\n",
       "          male    alone         361\n",
       "                  not alone     107\n",
       "1         female  alone         137\n",
       "                  not alone      96\n",
       "          male    alone          73\n",
       "                  not alone      36\n",
       "Name: has_family, dtype: int64"
      ]
     },
     "execution_count": 29,
     "metadata": {},
     "output_type": "execute_result"
    }
   ],
   "source": [
    "df.groupby(['Survived','Sex']).has_family.value_counts()"
   ]
  },
  {
   "cell_type": "markdown",
   "id": "9dff1772-d212-48d9-a27a-5e99c0ea2fc2",
   "metadata": {},
   "source": [
    "3. Did having a family member matter?\\\n",
    "Yes, 347 men travelling alone died while 121 with families died. The number of females who died traveling alone was 27 (the minimum) compared to the 134 who were traveling with someone and survived. "
   ]
  },
  {
   "cell_type": "code",
   "execution_count": null,
   "id": "60466fb0-bb89-48b3-95da-a89d1de8cadc",
   "metadata": {},
   "outputs": [],
   "source": []
  }
 ],
 "metadata": {
  "kernelspec": {
   "display_name": "Python 3 (ipykernel)",
   "language": "python",
   "name": "python3"
  },
  "language_info": {
   "codemirror_mode": {
    "name": "ipython",
    "version": 3
   },
   "file_extension": ".py",
   "mimetype": "text/x-python",
   "name": "python",
   "nbconvert_exporter": "python",
   "pygments_lexer": "ipython3",
   "version": "3.9.7"
  }
 },
 "nbformat": 4,
 "nbformat_minor": 5
}
